{
 "cells": [
  {
   "cell_type": "code",
   "execution_count": 9,
   "id": "dc2fc334",
   "metadata": {},
   "outputs": [],
   "source": [
    "def read_data1(file_path):\n",
    "    import pandas as pd\n",
    "    data = pd.read_csv(file_path, sep='\\t').values.tolist()\n",
    "    #sentences = [item[0] for item in data]\n",
    "    #labels = [int(item[1]) for item in data]\n",
    "    sentences = []\n",
    "    labels = []\n",
    "    n = 0\n",
    "    for i in data:\n",
    "        if labels.count(0) < 32 and int(i[1]) == 0:\n",
    "            sentences.append(i[0])\n",
    "            labels.append(int(i[1]))\n",
    "                            \n",
    "        if labels.count(1) < 32 and int(i[1]) == 1:\n",
    "            sentences.append(i[0])\n",
    "            labels.append(int(i[1]))\n",
    "            \n",
    "    processed_data = [(sentences[i], labels[i]) for i in range(len(labels))]  \n",
    "    print(len(processed_data))         \n",
    "    return processed_data"
   ]
  },
  {
   "cell_type": "code",
   "execution_count": 10,
   "id": "b95b3866",
   "metadata": {},
   "outputs": [
    {
     "name": "stdout",
     "output_type": "stream",
     "text": [
      "64\n"
     ]
    }
   ],
   "source": [
    "import os\n",
    "train_data = read_data1('train.tsv')\n"
   ]
  },
  {
   "cell_type": "code",
   "execution_count": 16,
   "id": "877ffca7",
   "metadata": {},
   "outputs": [
    {
     "name": "stdout",
     "output_type": "stream",
     "text": [
      "1640\n",
      "1814\n",
      "1698\n",
      "2812\n",
      "1502\n",
      "2009\n",
      "5145\n",
      "1889\n",
      "1988\n",
      "2187\n",
      "2544\n",
      "3225\n",
      "1965\n",
      "3617\n",
      "2038\n",
      "1950\n",
      "1637\n",
      "2209\n"
     ]
    }
   ],
   "source": []
  },
  {
   "cell_type": "code",
   "execution_count": null,
   "id": "c13e85d9",
   "metadata": {},
   "outputs": [],
   "source": []
  }
 ],
 "metadata": {
  "kernelspec": {
   "display_name": "Python [conda env:mixup]",
   "language": "python",
   "name": "conda-env-mixup-py"
  },
  "language_info": {
   "codemirror_mode": {
    "name": "ipython",
    "version": 3
   },
   "file_extension": ".py",
   "mimetype": "text/x-python",
   "name": "python",
   "nbconvert_exporter": "python",
   "pygments_lexer": "ipython3",
   "version": "3.8.0"
  }
 },
 "nbformat": 4,
 "nbformat_minor": 5
}
